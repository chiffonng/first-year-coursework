{
 "cells": [
  {
   "cell_type": "markdown",
   "metadata": {},
   "source": [
    "### Find two datasets and describe their statistics\n",
    "\n",
    "Find two datasets that have:\n",
    "1. the same range and standard deviation, but different means\n",
    "2. the same mean and range, but different standard deviations\n",
    "3. the same mean and standard deviation, but different ranges"
   ]
  },
  {
   "cell_type": "code",
   "execution_count": 8,
   "metadata": {},
   "outputs": [
    {
     "name": "stdout",
     "output_type": "stream",
     "text": [
      " \t List 1  List 2  Equal?\n",
      "Mean: \t 2 \t 5 \t False\n",
      "Range: \t 2 \t 2 \t True\n",
      "SD: \t 1.0 \t 1.0 \t True\n",
      "\n",
      "\n",
      " \t List 1  List 2  Equal?\n",
      "Mean: \t 6 \t 6 \t True\n",
      "Range: \t 4 \t 4 \t True\n",
      "SD: \t 2.0 \t 1.6 \t False\n",
      "\n",
      "\n",
      " \t List 1  List 2  Equal?\n",
      "Mean: \t 0 \t 0 \t True\n",
      "Range: \t 2 \t 4 \t False\n",
      "SD: \t 1.0 \t 2.0 \t False\n",
      "\n",
      "\n"
     ]
    }
   ],
   "source": [
    "from statistics import mean, stdev \n",
    "def range_(lst):\n",
    "    return lst[-1] - lst[0]\n",
    "def meanOf(list1, list2):\n",
    "    mean1 = round(mean(list1), 1)\n",
    "    mean2 = round(mean(list2), 1)\n",
    "    print(\"Mean:\",\"\\t\", mean1, \"\\t\", mean2, \"\\t\", mean(list1) == mean(list2))\n",
    "def rangeOf(list1, list2):\n",
    "    range1 = round(range_(list1), 1)\n",
    "    range2 = round(range_(list2), 1)\n",
    "    print(\"Range:\",\"\\t\", range1, \"\\t\", range2, \"\\t\", range_(list1) == range_(list2))\n",
    "def stdevOf(list1, list2):\n",
    "    stdev1 = round(stdev(list1), 1)\n",
    "    stdev2 = round(stdev(list2), 1)\n",
    "    print(\"SD:\",\"\\t\", stdev1, \"\\t\", stdev2, \"\\t\", stdev(list1) == stdev(list2))\n",
    "def check(list1, list2):\n",
    "    print(\" \\t\", \"List 1 \", \"List 2 \", \"Equal?\")\n",
    "    meanOf(list1, list2)\n",
    "    rangeOf(list1, list2)\n",
    "    stdevOf(list1, list2)\n",
    "    print(\"\\n\")\n",
    "    \n",
    "check([1,2,3], [4,5,6]) #Two data sets with the same range and standard deviation, but different means\n",
    "check([4,6,8], [4,5,6,7,8]) #Two data sets with the same mean and range, but different standard deviations.\n",
    "check([-1,0,1],[-2,0,2]) #Two data sets with the same mean and standard deviation, but different ranges."
   ]
  },
  {
   "cell_type": "markdown",
   "metadata": {},
   "source": [
    "### Calculate winning probability in racquet\n",
    "In racquetball, a player continues to serve as long as she is winning; a point is scored only when a player is serving and wins the volley. This means that a point is not necessarily awarded on each volley. \n",
    "<br> \n",
    "For example, if you were serving, and won the volley, you would receive one point and continue to serve. But if you were serving, and lost the volley, the serve would be handed to your opponent next and no point would be awarded. The **first player to win 21 points wins the game**. \n",
    "<br>\n",
    "Assume that **you serve first and have probability 0.6 of winning** a volley when you serve and **probability 0.5 when your opponent serves**. Estimate, by simulation, the probability that you will win a game"
   ]
  },
  {
   "cell_type": "code",
   "execution_count": 3,
   "metadata": {},
   "outputs": [
    {
     "data": {
      "text/plain": [
       "(0.83, 0.17)"
      ]
     },
     "execution_count": 3,
     "metadata": {},
     "output_type": "execute_result"
    }
   ],
   "source": [
    "from random import random\n",
    "\n",
    "your_winp, other_winp, n_games = 0.6, 0.5, 10000\n",
    "pts_to_win = 21\n",
    "\n",
    "def game_over(a,b):\n",
    "    return a >= pts_to_win or b >= pts_to_win\n",
    "\n",
    "def game_sim(probA, probB):\n",
    "    serving = \"A\"\n",
    "    scoreA = scoreB = n_games = 0\n",
    "    while not game_over(scoreA, scoreB):\n",
    "        if serving == \"A\":\n",
    "            if random() < probA:\n",
    "                scoreA = scoreA + 1\n",
    "            else:\n",
    "                serving = \"B\"\n",
    "        else:\n",
    "            if random() < probB:\n",
    "                scoreB = scoreB + 1\n",
    "            else:\n",
    "                serving = \"A\"                \n",
    "        n_games += 1\n",
    "    return scoreA, scoreB\n",
    "\n",
    "def n_games_sim(n_games, probA, probB):\n",
    "    # Simulates n games of racquetball between players whose abilities are represented by the probability of winning a serve.\n",
    "    # Returns number of wins for A and B\n",
    "    winsA = winsB = 0\n",
    "    for i in range(n_games):\n",
    "        scoreA, scoreB = game_sim(probA, probB)\n",
    "        if scoreA > scoreB:\n",
    "            winsA = winsA + 1\n",
    "        else:\n",
    "            winsB = winsB + 1\n",
    "    return round(winsA/n_games, 2), round(winsB/n_games, 2)\n",
    "\n",
    "n_games_sim(n_games, your_winp, other_winp)"
   ]
  }
 ],
 "metadata": {
  "kernelspec": {
   "display_name": "Python 3",
   "language": "python",
   "name": "python3"
  },
  "language_info": {
   "codemirror_mode": {
    "name": "ipython",
    "version": 3
   },
   "file_extension": ".py",
   "mimetype": "text/x-python",
   "name": "python",
   "nbconvert_exporter": "python",
   "pygments_lexer": "ipython3",
   "version": "3.7.6"
  }
 },
 "nbformat": 4,
 "nbformat_minor": 4
}
