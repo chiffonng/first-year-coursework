{
 "cells": [
  {
   "cell_type": "markdown",
   "metadata": {
    "colab_type": "text",
    "id": "nEeXrnvD96Z3"
   },
   "source": [
    "# Formal Analyses Assignment 1\n",
    "## Logical Thinking\n",
    "### *Would you rather?*"
   ]
  },
  {
   "cell_type": "markdown",
   "metadata": {
    "colab_type": "text",
    "id": "i-eF0zU496Z5"
   },
   "source": [
    "## Overview\n",
    "\n",
    "For this assignment, you will craft arguments in favor of each side of a “would you rather” question. You must then analyze the arguments in full, making strong applications of all of the logical thinking HCs. The arguments can be as simple or as sophisticated as you wish! Keep in mind that more complicated arguments will require a richer, more careful analysis. This may be a good way to showcase your knowledge, but could also lead to more flaws. Moreover, in pursuit of the appropriate difficulty level, you’ll notice several “Optional” problems throughout the assignment to challenge yourself. These will only be scored if they are completed correctly with thorough explanation. If you attempt an optional challenge but do not succeed, you will not be penalized with a low score.\n",
    "\n",
    "## Formatting & HC Guidelines \n",
    "\n",
    "You must complete all tasks within this pre-formatted Jupyter notebook. **Please follow the formatting guidelines and the HC Guidelines in the assignment instructions on Forum (near the top and bottom of the instructions respectively).**"
   ]
  },
  {
   "cell_type": "markdown",
   "metadata": {
    "colab_type": "text",
    "id": "HSPhYqBatOjA"
   },
   "source": [
    "## Would you rather?\n",
    "\n",
    "Please choose a question from [this spreadsheet](https://docs.google.com/spreadsheets/d/1Q-q1q7ofKpTSaP4kNQL_Fq7GGiHhJc9psxuq8usoIUM/edit?usp=sharing). There are two parts below, and in each part, you will argue a different side of the argument for your chosen question. For example, if your question was, “Would you rather code in Python or code in Java?”, you would focus on one side only in PART 1: “I would rather code in Python.” In PART 2, you would craft an inductive argument for the other side, “I would rather code in Java.” **Please review the guidelines and examples provided to help you write effective arguments in the assignment instructions on Forum.**"
   ]
  },
  {
   "cell_type": "markdown",
   "metadata": {
    "colab_type": "text",
    "id": "JR5RblKV96Z8"
   },
   "source": [
    "## PART 1\n",
    "\n",
    "In this part, you will work with one side of the argument only. As explained above, if your question was, “Would you rather code in Python or code in Java?” then one side would be “I would rather code in Python.” For the chosen side of the argument, craft two brief arguments using deductive reasoning. One argument should be a valid deduction and one should contain a fallacy. Write these arguments in natural language in simple terms with clear use of logical connectives and atomic sentences so that it is amenable for the following analysis. [#deduction, #fallacies, #algorithms]\n"
   ]
  },
  {
   "cell_type": "markdown",
   "metadata": {
    "colab_type": "text",
    "id": "zvjIU7IxtOjD"
   },
   "source": [
    "### Write your question and your deductive arguments."
   ]
  },
  {
   "cell_type": "markdown",
   "metadata": {
    "colab_type": "text",
    "id": "SY12Lk3_tOjH"
   },
   "source": [
    "**Prompt**: Would you rather have a completely automated home or a self-driving car? "
   ]
  },
  {
   "cell_type": "markdown",
   "metadata": {
    "colab_type": "text",
    "id": "6iJbP1rO96Z9"
   },
   "source": [
    "<a id='1st-deduction'></a>\n",
    "#### First deductive argument:\n",
    "1. I want to rest comfortably and stay at a fixed place\n",
    "2. If I want to stay at a fixed place, I shouldn't drive too much\n",
    "3. If I don't drive too much, then I shouldn't choose a self-driving car\n",
    "4. If I do not have an automated house, I will have to do a lot of housework\n",
    "5. If I want to rest comfortably, I should do a little housework\n",
    "6. Therefore, I will choose to have an automated home but not a self-driving car"
   ]
  },
  {
   "cell_type": "markdown",
   "metadata": {},
   "source": [
    "<a id='2nd-deduction'></a>\n",
    "#### Second deductive argument:\n",
    "1. All cars, including self-driving car, are dangerous for me\n",
    "2. If I don't choose a self-driving car, then I will be safe\n",
    "3. If I choose an automated house, it doesn't move\n",
    "4. If it doesn't move, then I'll be safe\n",
    "5. To be safe, I will choose an automated house instead of a self-driving car"
   ]
  },
  {
   "cell_type": "markdown",
   "metadata": {
    "colab_type": "text",
    "id": "Jwoq0sui96Z-"
   },
   "source": [
    "### 1. Clearly identify the features of these arguments that make them deductive and explain why (<75 words).\n",
    "\n"
   ]
  },
  {
   "cell_type": "markdown",
   "metadata": {
    "colab_type": "text",
    "id": "_CeU7t0h96Z-"
   },
   "source": [
    "1. Their conclusions **necessarily** follow from their premises. If one premise is false, the conclusion will be false\n",
    "2. The *domain* of all premises is the **same or include** that of the conclusion. They do not introduce new topic in their conclusions\n",
    "3. Their premises either give definition (e.g. *cars are dangerous*) or rules that constrain what is or is not possible\n",
    "4. They use specific forms: **hypothetical syllogism** (i.e. *If A then B*), **disjunctive syllogism** (i.e. *either A or B*) and **all A's are B's** (e.g. *All cars are dangerous*) "
   ]
  },
  {
   "cell_type": "markdown",
   "metadata": {
    "colab_type": "text",
    "id": "WuxxbP03tOjK"
   },
   "source": [
    "### 2. For the valid deduction:\n",
    "#### 2.1 Translate your argument into symbolic logic."
   ]
  },
  {
   "cell_type": "markdown",
   "metadata": {},
   "source": [
    "##### [First argument](#1st-deduction):\n",
    "**Atomic sentences**\n",
    "- R: I want to rest comfortably\n",
    "- S: I want to stay at a fixed place\n",
    "- D: I drive a lot\n",
    "- C: I choose a self-driving car\n",
    "- H: I choose an automated home\n",
    "- W: I have to do a lot of housework\n",
    "\n",
    "**Translate argument**\n",
    "\n",
    "No. | Natural language | Symbolic logic\n",
    ":---:|:---|:---\n",
    "1 | I want to rest comfortably and stay at a fixed place | R ∧ S\n",
    "2 | If I want to stay at a fixed place, I shouldn't drive too much | S → ¬D\n",
    "3 | If I don't drive too much, then I shouldn't choose a self-driving car | ¬D → ¬C\n",
    "4 | If I do not have an automated house, I will have to do a lot of housework | ¬H → W\n",
    "5 | If I want to rest comfortably, I should do a little housework | R → ~W\n",
    "6 | Therefore, I will choose to have an automated home but not a self-driving car | H ∧ ¬C"
   ]
  },
  {
   "cell_type": "markdown",
   "metadata": {
    "colab_type": "text",
    "id": "kAJ6wsTu96aA"
   },
   "source": [
    "#### 2.2 Choose two sentences from the argument and negate them using DeMorgan’s laws. Ideally, you should choose two sentences that have different logical connectives. Translate the negations back into English.\n"
   ]
  },
  {
   "cell_type": "markdown",
   "metadata": {
    "colab_type": "text",
    "id": "Rv-KVvO4rBfA"
   },
   "source": [
    "No. | Sentence | Translated argument | Negated argument | Negated argument in natural language\n",
    "---:|:--- |:---|:--- |:---\n",
    "1 | If I do not have an automated house, I will have to do a lot of housework | ¬H → W *or* H ∨ M | (¬H) ∧ (¬M) | I don't have an automated house and I don't do a lot of housework\n",
    "2 | I will choose to have a completely automated home but not a self-driving car | H ∧ ¬C | ¬H ∨ C | I will choose a self-driving car or I won't choose a completely automated home"
   ]
  },
  {
   "cell_type": "markdown",
   "metadata": {
    "colab_type": "text",
    "id": "kRfMhJEKrBfB"
   },
   "source": [
    "#### 2.3. Prove that the argument is indeed valid using a formal proof."
   ]
  },
  {
   "cell_type": "markdown",
   "metadata": {
    "colab_type": "text",
    "id": "xVSCP6yCrBfD"
   },
   "source": [
    "##### [First argument](#1st-deduction):\n",
    "No. | | Steps \n",
    ":---:|:--- |:--- \n",
    "1 | R ∧ S | premise \n",
    "2 | S → ¬D | premise \n",
    "3 | ¬D → ¬C | premise\n",
    "4 | ¬H → W | premise \n",
    "5 | R → ¬W | premise \n",
    " | H ∧ ¬C | conclusion \n",
    "6 | R | simplification, 1 \n",
    "7 | ¬W | modus ponens, 5, 6\n",
    "8 | ¬¬H | modus tollens, 4, 7\n",
    "9 | H | double negation, 8\n",
    "10 | S | simplification, 1\n",
    "11 | S → ¬C | conditional derivation, 2-3\n",
    "12 | ¬C | modus ponens, 11, 10\n",
    "13 | H ∧ ¬C | adjunction, 9, 12"
   ]
  },
  {
   "cell_type": "markdown",
   "metadata": {
    "colab_type": "text",
    "id": "SVbul8AVrBfF"
   },
   "source": [
    "#### 2.4. Discuss the soundness of the argument (<100 words)."
   ]
  },
  {
   "cell_type": "markdown",
   "metadata": {
    "colab_type": "text",
    "id": "IZCLHkXsrBfG"
   },
   "source": [
    "The *first argument* is a **valid** argument (explained above) with **true premises** (to me). Apart from the statement in 1st premise, each conditional statement among the remaining premises is acceptable in general. Thus, this deductive argument is **sound**."
   ]
  },
  {
   "cell_type": "markdown",
   "metadata": {
    "colab_type": "text",
    "id": "V7WJ4OZZrBfE"
   },
   "source": [
    "#### 2.5 *Optional*: Negate each of the premises of your argument and derive a valid conclusion, being sure to explain the derivation and comment on the soundness. If it is impossible to form a valid argument from these premises, explain why.\n"
   ]
  },
  {
   "cell_type": "markdown",
   "metadata": {
    "colab_type": "text",
    "id": "hr_Y3mWKrBfF"
   },
   "source": [
    "No. | | Negated | Steps \n",
    ":---:|:--- |:---|:---\n",
    "1 | R ∧ S | ¬R ∨ ¬S | premise \n",
    "2 | S → ¬D | S ∧ ¬¬D *or* S ∧ D| premise \n",
    "3 | ¬D → ¬C | ¬D ∧ ¬¬C *or* ¬D ∧ C | premise\n",
    "4 | ¬H → W | ¬H ∧ ¬W | premise\n",
    "5 | R → ¬W | R ∧ ¬¬W *or* R ∧ W | premise\n",
    " | H ∧ ¬C | ¬H ∨ C | conclusion\n",
    "6 | | S | simplification, 2\n",
    "7 | | ¬R | modus tollendo ponens, 1, 6\n",
    "8 | | D | simplification, 2"
   ]
  },
  {
   "cell_type": "markdown",
   "metadata": {},
   "source": [
    "In the 5th premise $R ∧ W$, as $¬R$ is `true` (6th step), then $R$ is `false` and the whole **5th premise** become `false`. Similiarly, as $D$ is `true` (8th step), $¬D$ in the **3rd premise** $¬D ∧ C$ is `false` and this premise become `false`. Hence those negated premises form an **inconsistent** set of arugments.\n",
    "<br>\n",
    "In a deductive argument, such an **inconsistent** set of premises (i.e. they cannot be true at the same time) make the deduction **invalid**. Thus, it is impossible to form a valid argument from these premises, not to mention a sound deduction."
   ]
  },
  {
   "cell_type": "markdown",
   "metadata": {
    "colab_type": "text",
    "id": "Vrg0BWjU96aA"
   },
   "source": [
    "### 3. Python\n",
    "3.1. Use Python to assess the validity of the argument. The code should output whether or not the argument is valid (it should be valid!) based on a truth table. You are not required to print the full truth table, but it might provide you with a helpful sanity check. You may use a similar code from session 5 (3.1), simply adapting it to your argument, or if you wish, write your own from scratch. The code from lesson 4 (2.2) may also be helpful. Whatever approach you take, you must clearly explain how the code works (as described below). "
   ]
  },
  {
   "cell_type": "markdown",
   "metadata": {},
   "source": [
    "As with any code, you need to include clearly annotated in-line comments to document what the code is doing and how it is using logic. Read this [resource](https://mikegrouchy.com/blog/yes-your-code-does-need-comments) about the importance of comments and [this one](https://realpython.com/python-comments-guide/) for further guidance."
   ]
  },
  {
   "cell_type": "markdown",
   "metadata": {},
   "source": [
    "In addition to your brief in-line comments, you must also include an overarching explanation of what the code is doing as a whole in connection with #deduction. In particular, you should explain how the truth table is used to ascertain validity and how this logic concept is incorporated in the code (<150 words)."
   ]
  },
  {
   "cell_type": "code",
   "execution_count": 3,
   "metadata": {
    "colab": {},
    "colab_type": "code",
    "id": "c6GGeTPo96aB",
    "scrolled": true
   },
   "outputs": [
    {
     "name": "stdout",
     "output_type": "stream",
     "text": [
      "No.\t r\t s\t d\t c\t h\t w\t p1\t p2\t p3\t p4\t p5\t conclusion\n",
      "1 \t True \t True \t True \t True \t True \t True \t True \t False \t True \t True \t False \t False\n",
      "2 \t True \t True \t True \t True \t True \t False \t True \t False \t True \t True \t True \t False\n",
      "3 \t True \t True \t True \t True \t False \t True \t True \t False \t True \t True \t False \t False\n",
      "4 \t True \t True \t True \t True \t False \t False \t True \t False \t True \t False \t True \t False\n",
      "5 \t True \t True \t True \t False \t True \t True \t True \t False \t True \t True \t False \t True\n",
      "6 \t True \t True \t True \t False \t True \t False \t True \t False \t True \t True \t True \t True\n",
      "7 \t True \t True \t True \t False \t False \t True \t True \t False \t True \t True \t False \t False\n",
      "8 \t True \t True \t True \t False \t False \t False \t True \t False \t True \t False \t True \t False\n",
      "9 \t True \t True \t False \t True \t True \t True \t True \t True \t False \t True \t False \t False\n",
      "10 \t True \t True \t False \t True \t True \t False \t True \t True \t False \t True \t True \t False\n",
      "11 \t True \t True \t False \t True \t False \t True \t True \t True \t False \t True \t False \t False\n",
      "12 \t True \t True \t False \t True \t False \t False \t True \t True \t False \t False \t True \t False\n",
      "13 \t True \t True \t False \t False \t True \t True \t True \t True \t True \t True \t False \t True\n",
      "14 \t True \t True \t False \t False \t True \t False \t True \t True \t True \t True \t True \t True\n",
      "\n",
      " The line above is where the argument is valid \n",
      "\n",
      "15 \t True \t True \t False \t False \t False \t True \t True \t True \t True \t True \t False \t False\n",
      "16 \t True \t True \t False \t False \t False \t False \t True \t True \t True \t False \t True \t False\n",
      "17 \t True \t False \t True \t True \t True \t True \t False \t True \t True \t True \t False \t False\n",
      "18 \t True \t False \t True \t True \t True \t False \t False \t True \t True \t True \t True \t False\n",
      "19 \t True \t False \t True \t True \t False \t True \t False \t True \t True \t True \t False \t False\n",
      "20 \t True \t False \t True \t True \t False \t False \t False \t True \t True \t False \t True \t False\n",
      "21 \t True \t False \t True \t False \t True \t True \t False \t True \t True \t True \t False \t True\n",
      "22 \t True \t False \t True \t False \t True \t False \t False \t True \t True \t True \t True \t True\n",
      "23 \t True \t False \t True \t False \t False \t True \t False \t True \t True \t True \t False \t False\n",
      "24 \t True \t False \t True \t False \t False \t False \t False \t True \t True \t False \t True \t False\n",
      "25 \t True \t False \t False \t True \t True \t True \t False \t True \t False \t True \t False \t False\n",
      "26 \t True \t False \t False \t True \t True \t False \t False \t True \t False \t True \t True \t False\n",
      "27 \t True \t False \t False \t True \t False \t True \t False \t True \t False \t True \t False \t False\n",
      "28 \t True \t False \t False \t True \t False \t False \t False \t True \t False \t False \t True \t False\n",
      "29 \t True \t False \t False \t False \t True \t True \t False \t True \t True \t True \t False \t True\n",
      "30 \t True \t False \t False \t False \t True \t False \t False \t True \t True \t True \t True \t True\n",
      "31 \t True \t False \t False \t False \t False \t True \t False \t True \t True \t True \t False \t False\n",
      "32 \t True \t False \t False \t False \t False \t False \t False \t True \t True \t False \t True \t False\n",
      "33 \t False \t True \t True \t True \t True \t True \t False \t False \t True \t True \t True \t False\n",
      "34 \t False \t True \t True \t True \t True \t False \t False \t False \t True \t True \t True \t False\n",
      "35 \t False \t True \t True \t True \t False \t True \t False \t False \t True \t True \t True \t False\n",
      "36 \t False \t True \t True \t True \t False \t False \t False \t False \t True \t False \t True \t False\n",
      "37 \t False \t True \t True \t False \t True \t True \t False \t False \t True \t True \t True \t True\n",
      "38 \t False \t True \t True \t False \t True \t False \t False \t False \t True \t True \t True \t True\n",
      "39 \t False \t True \t True \t False \t False \t True \t False \t False \t True \t True \t True \t False\n",
      "40 \t False \t True \t True \t False \t False \t False \t False \t False \t True \t False \t True \t False\n",
      "41 \t False \t True \t False \t True \t True \t True \t False \t True \t False \t True \t True \t False\n",
      "42 \t False \t True \t False \t True \t True \t False \t False \t True \t False \t True \t True \t False\n",
      "43 \t False \t True \t False \t True \t False \t True \t False \t True \t False \t True \t True \t False\n",
      "44 \t False \t True \t False \t True \t False \t False \t False \t True \t False \t False \t True \t False\n",
      "45 \t False \t True \t False \t False \t True \t True \t False \t True \t True \t True \t True \t True\n",
      "46 \t False \t True \t False \t False \t True \t False \t False \t True \t True \t True \t True \t True\n",
      "47 \t False \t True \t False \t False \t False \t True \t False \t True \t True \t True \t True \t False\n",
      "48 \t False \t True \t False \t False \t False \t False \t False \t True \t True \t False \t True \t False\n",
      "49 \t False \t False \t True \t True \t True \t True \t False \t True \t True \t True \t True \t False\n",
      "50 \t False \t False \t True \t True \t True \t False \t False \t True \t True \t True \t True \t False\n",
      "51 \t False \t False \t True \t True \t False \t True \t False \t True \t True \t True \t True \t False\n",
      "52 \t False \t False \t True \t True \t False \t False \t False \t True \t True \t False \t True \t False\n",
      "53 \t False \t False \t True \t False \t True \t True \t False \t True \t True \t True \t True \t True\n",
      "54 \t False \t False \t True \t False \t True \t False \t False \t True \t True \t True \t True \t True\n",
      "55 \t False \t False \t True \t False \t False \t True \t False \t True \t True \t True \t True \t False\n",
      "56 \t False \t False \t True \t False \t False \t False \t False \t True \t True \t False \t True \t False\n",
      "57 \t False \t False \t False \t True \t True \t True \t False \t True \t False \t True \t True \t False\n",
      "58 \t False \t False \t False \t True \t True \t False \t False \t True \t False \t True \t True \t False\n",
      "59 \t False \t False \t False \t True \t False \t True \t False \t True \t False \t True \t True \t False\n",
      "60 \t False \t False \t False \t True \t False \t False \t False \t True \t False \t False \t True \t False\n",
      "61 \t False \t False \t False \t False \t True \t True \t False \t True \t True \t True \t True \t True\n",
      "62 \t False \t False \t False \t False \t True \t False \t False \t True \t True \t True \t True \t True\n",
      "63 \t False \t False \t False \t False \t False \t True \t False \t True \t True \t True \t True \t False\n",
      "64 \t False \t False \t False \t False \t False \t False \t False \t True \t True \t False \t True \t False\n",
      "The argument is valid at line 14\n"
     ]
    }
   ],
   "source": [
    "def conditional(a,b): #define conditional statement first for further reuse\n",
    "    # inputs two boolean variables representing atomic sentences a, b\n",
    "    # outputs the truth value of the sentence \"a -> b\"\n",
    "    return not a or b\n",
    "\n",
    "def premise1(r,s): #define the 1st premise, input relevant atomic sentences\n",
    "    return r and s\n",
    "\n",
    "def premise2(s,d): #define the 2nd premise, input relevant atomic sentences \n",
    "    return conditional(s, not d) #call func conditional in use \n",
    "\n",
    "def premise3(d,c): #define the 3rd premise, input relevant atomic sentences\n",
    "    return conditional(not d, not c)\n",
    "\n",
    "def premise4(h,w): #define the 4th premise, input relevant atomic sentences \n",
    "    return conditional(not h, w)\n",
    "\n",
    "def premise5(r,w): #define the 5th premise, input relevant atomic sentences \n",
    "    return conditional(r, not w)\n",
    "\n",
    "def conclusion(r,s,d,c,h,w): #define the conclusion, input all possible atomic sentences\n",
    "    return h and not c\n",
    "\n",
    "def valid_checker(p1, p2, p3, p4, p5, concl): #draw truth table from the argument and return its validity\n",
    "    count = 1 #variable to enumarate the number of lines printed\n",
    "    valid = False\n",
    "    print('No.\\t r\\t s\\t d\\t c\\t h\\t w\\t p1\\t p2\\t p3\\t p4\\t p5\\t conclusion') #header of the truth table\n",
    "    #use of for loops to give truth values for each of atomic sentences input\n",
    "    for r in [True,False]:\n",
    "        for s in [True,False]:\n",
    "            for d in [True,False]:\n",
    "                for c in [True,False]:\n",
    "                    for h in [True,False]:\n",
    "                        for w in [True,False]:\n",
    "                            #print truth values for atomic sentences, premises and conclusion line by line\n",
    "                            print(count,'\\t', r,'\\t',s,'\\t',d,'\\t',c,'\\t', h,'\\t', w, '\\t', p1(r,s),'\\t',p2(s,d),\n",
    "                                  '\\t',p3(d,c), '\\t', p4(h,w),'\\t', p5(r,w), '\\t', concl(r,s,d,c,h,w))\n",
    "                            #check if there is a line where all premises and conlusion are true\n",
    "                            if p1(r,s) and p2(s,d) and p3(d,c) and p4(h,w) and p5(r,w) and concl(r,s,d,c,h,w):\n",
    "                                valid = True #change into True because now the argument is valid\n",
    "                                valid_line = count #return the line number where the argument is valid\n",
    "                                print(\"\\n The line above is where the argument is valid \\n\")\n",
    "                            count += 1 #increase by 1 every time a line in the table is printed completely\n",
    "                            \n",
    "    if valid:\n",
    "        print(\"The argument is valid at line\", valid_line) \n",
    "    else:\n",
    "        print(\"The argument is invalid\")\n",
    "                                 \n",
    "valid_checker(premise1, premise2, premise3, premise4, premise5, conclusion)                    "
   ]
  },
  {
   "cell_type": "markdown",
   "metadata": {
    "colab_type": "text",
    "id": "iHx1tm18wHP1"
   },
   "source": [
    "Code 3.1 algorithm:\n",
    "1. Define premises and conclusion of the argument in symbolic logic\n",
    "    1. Define conditional statement as it will be used frequently and it is not straightforward\n",
    "    2. Call back function conditional if needed; otherwise just use proper logical connectives\n",
    "2. Draw truth table for the argument:\n",
    "    1. Assign truth values for every atomic sentence\n",
    "    2. Call functions written for premises and logic\n",
    "    3. Print truth values for atomic sentences, premises and conclusion line by line\n",
    "    4. Check validity: if there is a line where all premises and conlusion are true\n",
    "        1. If valid: return the line nunmber where the argument is valid\n",
    "    5. Print the whole truth table and the argument's validity"
   ]
  },
  {
   "cell_type": "markdown",
   "metadata": {
    "colab_type": "text",
    "id": "CIZxbM8nrBfN"
   },
   "source": [
    "#### 3.2 *Optional challenge*: Write your own Python code that will create a truth table for any logical statement involving any number of atomic sentences and connectives. You can decide on the input/output format, but explain in detail what you are doing and why."
   ]
  },
  {
   "cell_type": "code",
   "execution_count": 7,
   "metadata": {
    "colab": {},
    "colab_type": "code",
    "id": "0DO3xJrLrBfO"
   },
   "outputs": [
    {
     "data": {
      "text/plain": [
       "<__main__.Truths at 0x1f17acdefc8>"
      ]
     },
     "execution_count": 7,
     "metadata": {},
     "output_type": "execute_result"
    }
   ],
   "source": []
  },
  {
   "cell_type": "markdown",
   "metadata": {
    "colab_type": "text",
    "id": "CC_6UoKlrBfU"
   },
   "source": [
    "#### 3.3 *Optional super challenge*: Write your own Python code that will check the validity of any set of logical sentences that form an argument. Explain in detail how your code works. You can decide on the input/output format, but explain in detail what you are doing and why."
   ]
  },
  {
   "cell_type": "code",
   "execution_count": null,
   "metadata": {
    "colab": {},
    "colab_type": "code",
    "id": "ueNROMgKrBfW"
   },
   "outputs": [],
   "source": [
    "# write your code for 3.3 (optional) here"
   ]
  },
  {
   "cell_type": "markdown",
   "metadata": {
    "colab_type": "text",
    "id": "ExUp-7Gw96aE"
   },
   "source": [
    "### 4. For the fallacious argument (<200 words): \n",
    "#### 4.1 Name the type of fallacy or fallacies involved and justify the fallacious nature of the argument by explaining the flaw in logic.\n",
    "#### 4.2 Explain how the fallacy or fallacies could be corrected and the effect of the correction on the meaning of the conclusion and/or premises. \n",
    "(Translating this part of the argument into symbolic logic is not required but could be useful for your explanations.)\n"
   ]
  },
  {
   "cell_type": "markdown",
   "metadata": {
    "colab_type": "text",
    "id": "HzSWEXPfxpUi"
   },
   "source": [
    "#### [Second argument](#2nd-deduction) (invalid deduction):\n",
    "1. All cars, including self-driving car, are dangerous for me\n",
    "2. If I don't choose a self-driving car, then I will be safe\n",
    "3. If I choose an automated house, it doesn't move\n",
    "4. If it doesn't move, then I'll be safe\n",
    "5. To be safe, I will choose an automated house instead of a self-driving car) \n",
    "\n",
    "##### Atomic sentences: \n",
    "- C: I choose a self-driving car\n",
    "- S: I will be safe\n",
    "- H: I choose an automated house\n",
    "- M: It moves\n",
    "\n",
    "##### Translated argument:\n",
    "No. | Natural language | Symbolic logic | Steps | Fallacy name | Fallacy Type\n",
    ":---:|:---|:---|:--- |:---|:---:\n",
    "1 | All cars, including self-driving cars, are dangerous for me to choose | C → ¬S | premise | \n",
    "2 | If I don't choose the self-driving car, then I will be safe | ¬C → S  | premise | denying the antecedent (1-2) | Formal\n",
    "3 | If I choose an automated house, it doesn't move | H → ¬M | premise\n",
    "4 | If it doesn't move, then I'll be safe | ¬M → S | premise\n",
    "5 | To be safe, I will choose an automated house instead of self-driving car | S → (H & ¬C) | conclusion | affirming the consequent (2, 6, 5) | Formal\n",
    "6 | If I choose an automated house, I'll be safe | H → S | conditional derivation, 3-4 | \n",
    "\n",
    "##### Explanation: \n",
    "1. <font color = \"red\">Denying the antecedent (1-2)</font>: In the 2nd premise, even if I don't choose the car, there are  other reasons I won't be safe (e.g. knife cutting). This formal fallacy made the argument **invalid** and the conclusion `false`. To construct a valid deduction, this premise should be replaced by another like <font color = \"blue\">*I want to be safe*</font> ($S$), then the first two premises ($C → ¬S$, $S$), can reach <font color = \"green\">*modus tollens*</font> ($¬C$).\n",
    "2. <font color = \"red\">Affirming the consequent (2, 6, 5)</font>: There are two pairs of fallacious argument:\n",
    "\n",
    "No. | Premise | Conclusion\n",
    ":---:|:---:|:---:|\n",
    "1 | ¬C → S | S → ¬C\n",
    "2 | H → S | S → H\n",
    "\n",
    "It's a fallacy because it's not a bicondition. <font color = \"blue\">*If I don't choose the self-driving car, then I will be safe*</font> is not logically equivalent to <font color = \"blue\">*To be safe, I won't choose the self-driving car*</font>. There are other ways for me <font color = \"blue\">*to be safe*</font>, not just <font color = \"blue\">*choose the self-driving car*</font> (e.g. drive carefully on the road). To correct this fallacy, the 2nd premise $¬C → S$ can be changed into $¬C ↔ S$, or be deleted as indicated above\n",
    "\n",
    "Remove or correct fallacies in premises can make the deductive argument **valid** (the conclusion become `true` and more believable). If premises are also true, the argument become **sound**"
   ]
  },
  {
   "cell_type": "markdown",
   "metadata": {
    "colab_type": "text",
    "id": "y2oG5Knl96aF"
   },
   "source": [
    "## PART 2\n",
    "#### For the other side of the argument, craft two brief arguments using inductive reasoning (please see the guidance provided above for how to construct your arguments from your question). One argument should be a strong induction and one should contain a fallacy. [#induction, #fallacies]"
   ]
  },
  {
   "cell_type": "markdown",
   "metadata": {
    "colab_type": "text",
    "id": "jhYuhbS00f69"
   },
   "source": [
    "**Prompt**: Would you rather have a completely automated home or a self-driving car? "
   ]
  },
  {
   "cell_type": "markdown",
   "metadata": {
    "colab_type": "text",
    "id": "HQvBDgr596aG"
   },
   "source": [
    "<a id = \"1st-induction\"></a>\n",
    "##### First inductive argument:\n",
    "1. I see myself as a clumsy person when it comes to engined systems. \n",
    "2. Both a completely automated home and a self-driving car are engined autonomous systems, but the house is more complex and thus more prone to error. \n",
    "3. It's highly likely that I'll mess up the system and then I will have to call for repair or maintenance. \n",
    "4. As I see, the more complex a system is, the higher it may cost, and the longer it may take under repair. \n",
    "5. A completely automated home is clearly more complex than a self-driving car, so it will cost so much more and take a long time\n",
    "6. Choosing such a house is like having a child constantly yelling for money and I can do nothing but give him\n",
    "7. Thus it may be better for me to choose a self-driving car"
   ]
  },
  {
   "cell_type": "markdown",
   "metadata": {
    "colab_type": "text",
    "id": "oGNqAhO3rBfg"
   },
   "source": [
    "<a id = \"2nd-induction\"></a>\n",
    "##### Second inductive argument:\n",
    "1. I tried a self-driving car of a friend of mine and it's great\n",
    "2. It is said that a completely engine-powered house takes a lot of money in maintenance and operations \n",
    "3. Most of my relatives and friends have their own cars, so it’s weird if I don't have one \n",
    "4. If I have a self-driving car, it is clearly better than those normal cars \n",
    "5. I can bear with a normal house but not a normal car\n",
    "6. Thus it may be better for me to choose a glamorous self-driving car"
   ]
  },
  {
   "cell_type": "markdown",
   "metadata": {
    "colab_type": "text",
    "id": "cGww68OA96aG"
   },
   "source": [
    "### 1. Clearly identify the features of these arguments that make them inductive and explain why (<75 words).\n",
    "\n"
   ]
  },
  {
   "cell_type": "markdown",
   "metadata": {
    "colab_type": "text",
    "id": "kN-8LmvT96aH"
   },
   "source": [
    "1. Their conclusions **likely** follow from their premises. As the number or quality of premises increase, the conclusion's likelihood increase\n",
    "2. The *domain* of all premises is the **smaller than** that of the conclusion. They concern different aspects of the topic in conclusion\n",
    "3. Their premises are given based on observation and different pieces of evidence\n",
    "4. They use specific forms: Both arguments are trying to make predictions\n",
    "5. They use indicator words: <font color = \"blue\"> *As I see* </font> (observation), <font color = \"blue\"> *likely, may*  </font> (likelihood), etc. Those words indicate normal experience and uncertainty about the absolute truth of the conclusion"
   ]
  },
  {
   "cell_type": "markdown",
   "metadata": {
    "colab_type": "text",
    "id": "ZISzYUb996aH"
   },
   "source": [
    "### 2. For the strong induction (<200 words): \n",
    "#### 2.1 Is this a specific type of induction? Which type, and why?\n",
    "#### 2.2 Elaborate on the strength and reliability of the argument. Explain how the argument could be made more reliable (including by increasing the strength).\n",
    "\n",
    "\n"
   ]
  },
  {
   "cell_type": "markdown",
   "metadata": {
    "colab_type": "text",
    "id": "HQvBDgr596aG"
   },
   "source": [
    "1. I see myself as a clumsy person when it comes to engined systems. \n",
    "2. Both a completely automated home and a self-driving car are engined autonomous systems, but the house is more complex and thus more prone to error. \n",
    "3. It's highly likely that I'll mess up the system and then I will have to call for repair or maintenance. \n",
    "4. As I see, the more complex a system is, the higher it may cost, and the longer it may take under repair. \n",
    "5. A completely automated home is clearly more complex than a self-driving car, so it will cost so much more and take a long time\n",
    "6. Choosing such a house is like having a child constantly yelling for money and I can do nothing but give him\n",
    "7. Thus it may be better for me to choose a self-driving car"
   ]
  },
  {
   "cell_type": "markdown",
   "metadata": {
    "colab_type": "text",
    "id": "1t-aEk7IrBfl"
   },
   "source": [
    "The deduction is a <font color = \"green\">*prediction*</font> as a whole (I predict how my life would go if I chose an automated home based on my past experience). However, I combined two other types in the premises: \n",
    "1. <font color = \"green\">*causal inference*</font> (4th premise: complexity increase → cost & time likely increase, and I observe that an automated house is more complex) \n",
    "2. <font color = \"green\">*analogy*</font> (6th premise: compare a completely automated home which potentially cost a lot of money with a child yelling for money)"
   ]
  },
  {
   "cell_type": "markdown",
   "metadata": {},
   "source": [
    "I give different types of evidence (complexity, repair cost & time, my personality) **not** to choose an automated home; however, the argument **lacks reasons for choosing a self-driving car**. It is succeptible to <font color = \"red\">*red herring*</font> (off-topic to autonomous houses) or <font color = \"red\">*ad hominem*</font> (attack the other side) even though given evidence is strong enough to explain why I'll not pick one thing among two (so I'll pick the other). The argument is **.5/1.0 reliable**. To make it stronger and more reliable, I will:\n",
    "1. accumulate more types of evidence to support choosing a self-driving car (eliminative induction) *and*\n",
    "2. elaborate more on one type of evidence to increase the size of premises (enumerative induction)"
   ]
  },
  {
   "cell_type": "markdown",
   "metadata": {
    "colab_type": "text",
    "id": "mOYH0yys96aJ"
   },
   "source": [
    "### 3. For the fallacious argument (<200 words): \n",
    "#### 3.1 Name the type of fallacy or fallacies involved and justify the fallacious nature of the argument by explaining the flaw in logic.\n",
    "#### 3.2 Explain how the fallacy or fallacies could be corrected and the effect of the correction on the meaning of the conclusion and/or premises."
   ]
  },
  {
   "cell_type": "markdown",
   "metadata": {
    "colab_type": "text",
    "id": "UxmDeUqQyK4e"
   },
   "source": [
    "1. I tried a self-driving car of a friend of mine and it's great; other similar cars are possibly great too\n",
    "2. It is said that a completely engine-powered house takes a lot of money in maintenance and operations \n",
    "3. Most of my relatives and friends have their own cars, so it’s weird if I don't have one \n",
    "4. If I have a self-driving car, it is clearly better than those normal cars \n",
    "5. I can bear with a normal house but not a normal car\n",
    "6. Thus it may be better for me to choose a self-driving car"
   ]
  },
  {
   "cell_type": "markdown",
   "metadata": {
    "colab_type": "text",
    "id": "gAbwhF5LyK4g"
   },
   "source": [
    "**Explanation**: All those listed are <font color = \"red\"> informal fallacies</font>\n",
    "<br>\n",
    "1. <font color = \"red\">Hasty generalization</font> (1sr premise): The size of observation is too small (one car) to generalize to a type of car (self-driving cars). It can be corrected if I could increase the sample size here.\n",
    "2. <font color = \"red\">Bandwagon</font> (2nd premise): It's just what people often said, but it's not entirely true. Tesla self-driving cars are more expensive than average automated houses. It can be changed to something more general to be more correct and to increase the reliability of the argument.\n",
    "3. <font color = \"red\">Straw man</font> (3rd premise): A weaker argument <font color = \"blue\">*Most of my relatives and friends have their own cars*</font> was created to support my conclusion (cars are generalized; it's off-topic from self-driving cars). It should be changed into a \"self-driving car\" premise\n",
    "4. <font color = \"red\">Appeal to shame</font> (3rd premise): <font color = \"blue\">*it’s weird if I don't have one*</font> is not a strong reason for choosing a self-driving car; it only expresses shame and should be deleted from the premises to not mess the conclusion\n",
    "5. <font color = \"red\">Appeal to vanity</font> (4th premise): It seems like I self-flattered with a self-driving car here. In reality, there are still normal cars that are better than self-driving cars. I should point out here in what aspects and how self-driving cars are better, and delete <font color = \"blue\">*those*</font> (<font color = \"blue\">*those normal cars*</font> in the premise may relate to <font color = \"red\">*ad hominem*</font>)"
   ]
  },
  {
   "cell_type": "markdown",
   "metadata": {},
   "source": [
    "Such correction in premises does not guarantee that premises perfectly lead to a true conclusion. It just increase the argument's strength and reliability by removing and changing unacceptable or misleading fallacies. There are still potential fallacies here and there (e.g. <font color = \"red\">*appeal to emotion*</font> in the 3rd premise)"
   ]
  },
  {
   "cell_type": "markdown",
   "metadata": {
    "colab_type": "text",
    "id": "34a3R2eT96aK"
   },
   "source": [
    "## Reflection\n",
    "\n",
    "### Reflect on what you learned in this assignment. Address the following points in <300 words total:  [#scienceoflearning, #selfawareness, and other HCs per use] \n",
    "#### 1. How did the principles from the science of learning deepen your knowledge of #induction, #deduction, #algorithms, and #fallacies while working on this assignment? (<100 words)\n",
    "#### 2. Throughout both sections, what did you learn about the connection between formal logic, language, computer code, and the use of logical thinking in the real world? (<100 words)\n",
    "#### 3. Describe how you obtained the knowledge to complete the assignment, being sure to include attributions to specific individuals or groups who helped you and how they helped. You should elaborate on any strategies you used to identify gaps and weaknesses in your own understanding of the material. (<100 words)\n"
   ]
  },
  {
   "cell_type": "markdown",
   "metadata": {},
   "source": [
    "Write your reflection here, addressing points 1, 2, and 3.\n",
    "1. Normally when preparing for CS50, I noted  with <font color = \"purple\"> *appropriate examples* </font> (instead of only definition, which force me into <font color = \"purple\">*deliberate practice*</font> mode), so I had a quite robust foundation (<font color = \"purple\">*foundational learning*</font>). I added resources and class discussion. While working on the assignment, I frequently consulted those notes to review my knowledge (<font color = \"purple\">*generation effect & spaced practice*</font>). For example, I have this [Fallacy Cheat Sheet](https://www.notion.so/fb112df882c8487eb4d1426d54cf08b5?v=ccf11e46b93147c6b5545e547ae3f0df) for constructing fallacious arguments, or [Induction VS Deduction](https://www.notion.so/3-2-Induction-a0ce3e805a8a484ba0b48259e9b14011) to identify argument types. I also tried different questions (<font color = \"purple\">*interleaving*</font>) when I got stuck or bored to keep me working (chance for <font color = \"purple\">*deliberate practice*</font>). Smooth application of those principles get me more comfortable working with <font color = \"orange\"> #induction, #deduction, #algorithms </font>, and <font color = \"orange\">#fallacies</font>.\n",
    "<br>\n",
    "<br>\n",
    "2. I was aware that logical thinking is useful to derive a good <font color = \"orange\">#algorithms</font> in coding as computers need such guidance (<font color = \"orange\">#interpretivelens</font>). Through classes and the assignment, I learned more about how natural language can be coded into formal logic, and how I can test those with code. It helped me realize how I can also use logical thinking in daily language (<font color = \"orange\">#openmindedness</font>), especially reading news so that I can no longer be easily appealed (<font color = \"orange\">#critique</font>)\n",
    "<br>\n",
    "<br>\n",
    "3. For the assignment, I mostly consulted [my personal notes](https://www.notion.so/e8a8d28614a046e9be7fe6d5efe992d3?v=c5e5ef1c479243b3b013ff71ca8100a4) I summarized from readings. If I felt that I cannot complete a part to my expectation (aiming for a 4) with my own knowledge, I'll first come back to the session where it was taught and reviewed the readings. Usually that's enough, but I'll search Google if needed (self-check code and check <font color = \"orange\">#sourcequality</font>). For markdown, I searched for building table & text color in [IBM Cheat Sheet](https://medium.com/ibm-data-science-experience/markdown-for-jupyter-notebooks-cheatsheet-386c05aeebed). To construct truth tables, I referenced [tr3buchet's repo on Github](https://github.com/tr3buchet/truths/tree/master/truths) (though I failed, at least I tried) "
   ]
  },
  {
   "cell_type": "markdown",
   "metadata": {
    "colab_type": "text",
    "id": "yYJ11MAn96aL"
   },
   "source": [
    "### *Optional reflection questions*\n",
    "#### *Optional* 1: What side of the *would you rather* argument do believe was argued more effectively and why? (<200 words)\n",
    "\n"
   ]
  },
  {
   "cell_type": "markdown",
   "metadata": {},
   "source": [
    "Argument for a completely automated home. \n",
    "1. It's argued using deduction. Usually deductive arguments show more certainty in drawing their conclusions than inductive ones (relationship of necessity). If both premise and conclusions are true, the deductive argument is sound already, but in inductive argument, it is only **likely** reliable (reliablity is in a spectrum) - its conclusion is still possibly false.\n",
    "2. Premises in the deductive arugment is more closely connected and clearly structured (can be tested by formal logic). It's harder to judge induction that way\n",
    "3. In general, people spend more time and feel more comfortable in a house, and less time driving. If only one thing can be autonomous, they may choose a completely automated home"
   ]
  },
  {
   "cell_type": "markdown",
   "metadata": {
    "colab_type": "text",
    "id": "u6XvIE6YrBfu"
   },
   "source": [
    "I have to acknowledge there are bias in my reasons <font color = \"orange\">#biasidentification</font>: \n",
    "1. Personally I'd choose a completely automated house if asked\n",
    "2. I put more effort in crafting deductive arguments and I prefer deduction in general"
   ]
  },
  {
   "cell_type": "markdown",
   "metadata": {
    "colab_type": "text",
    "id": "dPVnuZHR96aM"
   },
   "source": [
    "#### *Optional* 2: Create a new assignment problem for future classes that you think is a good test of the skills covered by one or more of these HCs. Provide the complete step-by-step solution, and a justification for why this is a good assignment problem. It should be entirely different from this assignment. *The FA team would like to thank Dima Lkhagvatogtokh (M22) for her submission to this question in 2018; her idea formed the basis for the assignment that you just completed!*\n",
    "\n"
   ]
  },
  {
   "cell_type": "markdown",
   "metadata": {
    "colab_type": "text",
    "id": "irIZ8Mc8rBfw"
   },
   "source": [
    "I just want to share an idea here:\n",
    "- Assignment: What If\n",
    "- Type: Pair\n",
    "- HCs covered: #deduction #induction #fallacies\n",
    "- Description: \n",
    "    - Assign a \"What If\" prompt to a pair of students. \n",
    "    - Typically, students will be asked to choose 3 things in given scenarios (The \"What If\" scenario) and reason their arguments (3 arguments/student). \n",
    "    - After crafting their own arguments, students in a pair share their work with each other to correct the other's fallacies to make modifications and decide whose argument are stronger (give their reasons). \n",
    "    - Arguments can be entirely in deduction or induction or combination depending on the professor. Ideally there should be at least one deductive and one inductive argument \n",
    "\n",
    "**Why it can be a good assignment**:\n",
    "- It requires students to craft their own arguments using deduction and induction \n",
    "- It is reusable even if the prompt list won't change\n",
    "- It can be interesting with the prompt list\n",
    "- Students have a chance to do invidiual and group work at the same time and receive feedback to progress\n",
    "\n",
    "**Some problems**:\n",
    "- Doing pair work may motivate students to take other's ideas and violate the Honor Code\n",
    "- It is short for a big assignment\n",
    "- It derives some ideas from **this** assignment, so it's not entirely different\n",
    "\n",
    "**Suggested prompt list**:\n",
    "- What if you had the Doraemon's magic door? Choose three places you want to visit and explain why.\n",
    "- What if you were marooned in an isolated island? Choose the first three things you may look for and explain why.\n",
    "- What if you had only one hour left to live? Choose three things you would do.\n",
    "- What if you had a chance to go to Mars? Choose three things you would bring to the space.\n",
    "- What if you could change three things about Minerva, what would you do?\n",
    "- What if you were granted three love wishes, what would you choose?\n",
    "- What if you could have answers for three now unanswerable problems from aliens, what would you choose?"
   ]
  },
  {
   "cell_type": "markdown",
   "metadata": {
    "colab_type": "text",
    "id": "gLG7YeDnrBfx"
   },
   "source": [
    "## You're done! \n",
    "\n",
    "You must upload TWO files:\n",
    "\n",
    "\n",
    "1. A **zipped folder** containing the .ipynb file and any other relevant files for running the notebook.\n",
    "\n",
    "\n",
    "2. A **PDF** of your entire assignment. A PDF of your entire assignment. This is to be submitted as a separate file, NOT simply inside the zipped folder. Email attachments will not be accepted. We encourage students to follow the tips available in [this guide](https://docs.google.com/document/d/1gRMol9Ebbvyu1mvEKzma92o_N7ZbNXsPIb1QdQV0TeE/edit?usp=sharing), *especially the best practices listed at the end*."
   ]
  },
  {
   "cell_type": "code",
   "execution_count": null,
   "metadata": {},
   "outputs": [],
   "source": []
  }
 ],
 "metadata": {
  "colab": {
   "collapsed_sections": [],
   "name": "CS50 Assignment 1 Notebook - Would You Rather 2020-21.ipynb",
   "provenance": []
  },
  "kernelspec": {
   "display_name": "Python 3",
   "language": "python",
   "name": "python3"
  },
  "language_info": {
   "codemirror_mode": {
    "name": "ipython",
    "version": 3
   },
   "file_extension": ".py",
   "mimetype": "text/x-python",
   "name": "python",
   "nbconvert_exporter": "python",
   "pygments_lexer": "ipython3",
   "version": "3.7.6"
  }
 },
 "nbformat": 4,
 "nbformat_minor": 1
}
