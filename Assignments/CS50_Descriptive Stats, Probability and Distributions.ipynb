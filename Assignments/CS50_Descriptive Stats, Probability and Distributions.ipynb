{
 "cells": [
  {
   "cell_type": "markdown",
   "metadata": {},
   "source": [
    "## Find two datasets and describe their statistics\n",
    "\n",
    "Find two datasets that have:\n",
    "1. the same range and standard deviation, but different means\n",
    "2. the same mean and range, but different standard deviations\n",
    "3. the same mean and standard deviation, but different ranges"
   ]
  },
  {
   "cell_type": "code",
   "execution_count": 70,
   "metadata": {},
   "outputs": [
    {
     "name": "stdout",
     "output_type": "stream",
     "text": [
      " \t List 1  List 2  Equal?\n",
      "Mean: \t 2 \t 5 \t False\n",
      "Range: \t 2 \t 2 \t True\n",
      "SD: \t 1.0 \t 1.0 \t True\n",
      "\n",
      "\n",
      " \t List 1  List 2  Equal?\n",
      "Mean: \t 6 \t 6 \t True\n",
      "Range: \t 4 \t 4 \t True\n",
      "SD: \t 2.0 \t 1.6 \t False\n",
      "\n",
      "\n",
      " \t List 1  List 2  Equal?\n",
      "Mean: \t 0 \t 0 \t True\n",
      "Range: \t 2 \t 4 \t False\n",
      "SD: \t 1.0 \t 2.0 \t False\n",
      "\n",
      "\n"
     ]
    }
   ],
   "source": [
    "from statistics import mean, stdev \n",
    "def range_(lst):\n",
    "    return lst[-1] - lst[0]\n",
    "def meanOf(list1, list2):\n",
    "    mean1 = round(mean(list1), 1)\n",
    "    mean2 = round(mean(list2), 1)\n",
    "    print(\"Mean:\",\"\\t\", mean1, \"\\t\", mean2, \"\\t\", mean(list1) == mean(list2))\n",
    "def rangeOf(list1, list2):\n",
    "    range1 = round(range_(list1), 1)\n",
    "    range2 = round(range_(list2), 1)\n",
    "    print(\"Range:\",\"\\t\", range1, \"\\t\", range2, \"\\t\", range_(list1) == range_(list2))\n",
    "def stdevOf(list1, list2):\n",
    "    stdev1 = round(stdev(list1), 1)\n",
    "    stdev2 = round(stdev(list2), 1)\n",
    "    print(\"SD:\",\"\\t\", stdev1, \"\\t\", stdev2, \"\\t\", stdev(list1) == stdev(list2))\n",
    "def check(list1, list2):\n",
    "    print(\" \\t\", \"List 1 \", \"List 2 \", \"Equal?\")\n",
    "    meanOf(list1, list2)\n",
    "    rangeOf(list1, list2)\n",
    "    stdevOf(list1, list2)\n",
    "    print(\"\\n\")\n",
    "    \n",
    "check([1,2,3], [4,5,6]) #Two data sets with the same range and standard deviation, but different means\n",
    "check([4,6,8], [4,5,6,7,8]) #Two data sets with the same mean and range, but different standard deviations.\n",
    "check([-1,0,1],[-2,0,2]) #Two data sets with the same mean and standard deviation, but different ranges."
   ]
  },
  {
   "cell_type": "markdown",
   "metadata": {},
   "source": [
    "### Calculate winning probability in racquet\n",
    "In racquetball, a player continues to serve as long as she is winning; a point is scored only when a player is serving and wins the volley. This means that a point is not necessarily awarded on each volley. \n",
    "<br> \n",
    "For example, if you were serving, and won the volley, you would receive one point and continue to serve. But if you were serving, and lost the volley, the serve would be handed to your opponent next and no point would be awarded. The **first player to win 21 points wins the game**. \n",
    "<br>\n",
    "Assume that **you serve first and have probability 0.6 of winning** a volley when you serve and **probability 0.5 when your opponent serves**. Estimate, by simulation, the probability that you will win a game"
   ]
  },
  {
   "cell_type": "code",
   "execution_count": 71,
   "metadata": {},
   "outputs": [
    {
     "data": {
      "text/plain": [
       "(0.83, 0.17)"
      ]
     },
     "execution_count": 71,
     "metadata": {},
     "output_type": "execute_result"
    }
   ],
   "source": [
    "from random import random\n",
    "\n",
    "your_winp, other_winp, n_games = 0.6, 0.5, 10000\n",
    "pts_to_win = 21\n",
    "\n",
    "def game_over(a,b):\n",
    "    return a >= pts_to_win or b >= pts_to_win\n",
    "\n",
    "def game_sim(probA, probB):\n",
    "    serving = \"A\"\n",
    "    scoreA = scoreB = n_games = 0\n",
    "    while not game_over(scoreA, scoreB):\n",
    "        if serving == \"A\":\n",
    "            if random() < probA:\n",
    "                scoreA = scoreA + 1\n",
    "            else:\n",
    "                serving = \"B\"\n",
    "        else:\n",
    "            if random() < probB:\n",
    "                scoreB = scoreB + 1\n",
    "            else:\n",
    "                serving = \"A\"                \n",
    "        n_games += 1\n",
    "    return scoreA, scoreB\n",
    "\n",
    "def n_games_sim(n_games, probA, probB):\n",
    "    # Simulates n games of racquetball between players whose abilities are represented by the probability of winning a serve.\n",
    "    # Returns number of wins for A and B\n",
    "    winsA = winsB = 0\n",
    "    for i in range(n_games):\n",
    "        scoreA, scoreB = game_sim(probA, probB)\n",
    "        if scoreA > scoreB:\n",
    "            winsA = winsA + 1\n",
    "        else:\n",
    "            winsB = winsB + 1\n",
    "    return round(winsA/n_games, 2), round(winsB/n_games, 2)\n",
    "\n",
    "n_games_sim(n_games, your_winp, other_winp)"
   ]
  },
  {
   "cell_type": "code",
   "execution_count": 72,
   "metadata": {},
   "outputs": [
    {
     "name": "stdout",
     "output_type": "stream",
     "text": [
      "Probability of first success on the 2 th trial: 0.21\n",
      "Does this command match the formula?: True \n",
      "\n",
      "Probability of 80 successes in 100 trials: 0.0\n",
      "Does this command match the formula?: True\n"
     ]
    }
   ],
   "source": [
    "from scipy import stats\n",
    "from math import factorial\n",
    "\n",
    "#Geometric Distribution\n",
    "gp = 0.3\n",
    "gn = 2\n",
    "geom_dist = round(stats.geom.pmf(gn,gp),5)\n",
    "geom_dist_formula = round((1 - gp)**(gn-1)*gp,5)\n",
    "print(\"Probability of first success on the\",gn,\"th trial:\",geom_dist)\n",
    "print(\"Does this command match the formula?:\", geom_dist == geom_dist_formula, \"\\n\")\n",
    "\n",
    "#Binomial Distribution\n",
    "bp = 0.1\n",
    "bn = 100\n",
    "bk = 80\n",
    "binom_dist = round(stats.binom.pmf(bk,bn,bp),5)\n",
    "combination = factorial(bn)/(factorial(bk)*factorial(bn - bk))\n",
    "multiply_rule = (bp**bk) * ((1-bp)**(bn-bk))\n",
    "binom_dist_formula = round(combination * multiply_rule,5)\n",
    "print(\"Probability of\", bk,\"successes in\",bn,\"trials:\", binom_dist)\n",
    "print(\"Does this command match the formula?:\", binom_dist == binom_dist_formula)"
   ]
  },
  {
   "cell_type": "code",
   "execution_count": 73,
   "metadata": {},
   "outputs": [
    {
     "data": {
      "image/png": "[encoded data removed]",
      "text/plain": [
       "<Figure size 576x360 with 1 Axes>"
      ]
     },
     "metadata": {
      "needs_background": "light"
     },
     "output_type": "display_data"
    },
    {
     "name": "stdout",
     "output_type": "stream",
     "text": [
      "mean = 2.5\n",
      "SD = 1.936\n"
     ]
    }
   ],
   "source": [
    "from scipy import stats\n",
    "import matplotlib.pyplot as plt\n",
    "\n",
    "p = 0.4 # probability of success\n",
    "n = list(range(1,16,1)) # trial with first success\n",
    "\n",
    "geometric_distribution = stats.geom.pmf(n, p)\n",
    "\n",
    "plt.bar(n, geometric_distribution)\n",
    "plt.title('Geometric Distribution \\nProbability of sucess: p = '+str(p))\n",
    "plt.xlabel('Trial with first success (n)')\n",
    "plt.ylabel('Probability P(n)')\n",
    "plt.show()\n",
    "\n",
    "mean = round(1/p,3)\n",
    "stdev = round(((1-p)/(p**2))**0.5,3)\n",
    "print(\"mean =\", mean) \n",
    "print(\"SD =\", stdev) "
   ]
  },
  {
   "cell_type": "code",
   "execution_count": 74,
   "metadata": {},
   "outputs": [
    {
     "data": {
      "image/png": "[encoded data removed]",
      "text/plain": [
       "<Figure size 576x360 with 1 Axes>"
      ]
     },
     "metadata": {
      "needs_background": "light"
     },
     "output_type": "display_data"
    }
   ],
   "source": [
    "n = list(range(1,7))\n",
    "\n",
    "for p in [0.1,0.5,0.9]:\n",
    "    p = round(p,2)\n",
    "    distribution = stats.geom.pmf(n, p)\n",
    "    plt.plot(n, distribution, linewidth=2, marker='o', label='p = {prob}'.format(prob=p))\n",
    "\n",
    "plt.title('Geometric Distribution')\n",
    "plt.legend(loc='best')\n",
    "plt.xlabel('Trial with first success (n)')\n",
    "plt.ylabel('Probability P(n)')\n",
    "plt.show()"
   ]
  },
  {
   "cell_type": "markdown",
   "metadata": {},
   "source": [
    "## Geometric Distribution Problem\n",
    "Suppose that you decided to ignore the COVID-19 protocols and go out bar hopping without any masks or hand-washing. Given the high level of contagiousness, it is estimated that there's a 31.5% chance of catching the disease upon visiting a bar. Answer the following questions and use Python to assist with the calculations."
   ]
  },
  {
   "cell_type": "markdown",
   "metadata": {},
   "source": [
    "What is the probability that your first infection will come upon visiting the third bar?"
   ]
  },
  {
   "cell_type": "markdown",
   "metadata": {},
   "source": [
    "On average, how many bars would you expect it to take to get your first infection?"
   ]
  },
  {
   "cell_type": "markdown",
   "metadata": {},
   "source": [
    "Is the number of bars that you should expect it to take for the first infection the same as the most likely bar on which the first infection occurs?"
   ]
  },
  {
   "cell_type": "markdown",
   "metadata": {},
   "source": [
    "## Binomal Distribution Problem\n",
    "Suppose that Minerva's yield rate is 70 percent, meaning that on average, 70% of admitted students choose to accept the offer to attend Minerva. Further, suppose that you are meeting with a random selection of 16 recently admitted students"
   ]
  },
  {
   "cell_type": "code",
   "execution_count": 77,
   "metadata": {},
   "outputs": [],
   "source": [
    "p = 0.7\n",
    "n = 16"
   ]
  },
  {
   "cell_type": "markdown",
   "metadata": {},
   "source": [
    "What is the probability that between 14 and 16 (inclusive) of the students you are meeting will accept Minerva's offer?"
   ]
  },
  {
   "cell_type": "code",
   "execution_count": 81,
   "metadata": {},
   "outputs": [
    {
     "name": "stdout",
     "output_type": "stream",
     "text": [
      "0.099\n"
     ]
    },
    {
     "data": {
      "image/png": "[encoded data removed]",
      "text/plain": [
       "<Figure size 576x360 with 1 Axes>"
      ]
     },
     "metadata": {
      "needs_background": "light"
     },
     "output_type": "display_data"
    }
   ],
   "source": [
    "trial_list = list(range(1, n+1))\n",
    "exclusive_range = list(range(14, 16+1))\n",
    "prob = 0\n",
    "colors = []\n",
    "default_clr, highlight_clr = \"royalblue\",\"firebrick\"\n",
    "\n",
    "for k in exclusive_range:\n",
    "    prob += stats.binom.pmf(k, n, p)\n",
    "print(round(prob, 3))\n",
    "\n",
    "for i in trial_list:\n",
    "    if trial_list[i-1] in exclusive_range:\n",
    "        colors.append(highlight_clr)\n",
    "    else: \n",
    "        colors.append(default_clr)\n",
    "        \n",
    "distribution = stats.binom.pmf(trial_list, n, p)\n",
    "plt.bar(trial_list, distribution, linewidth=2, label='n = {n}'.format(n=n), color = colors)\n",
    "\n",
    "plt.title(\"Binomial Distribution\\nMinerva yield rate: \" + str(int(p*100)) + \"%\")\n",
    "plt.xlabel(\"Number of students accepting offers (k) (in red)\")\n",
    "plt.ylabel(\"Probability P(k)\")\n",
    "plt.show()"
   ]
  },
  {
   "cell_type": "markdown",
   "metadata": {},
   "source": [
    "What is the probability that fewer than 13 of them will accept Minerva's offer?"
   ]
  },
  {
   "cell_type": "code",
   "execution_count": 54,
   "metadata": {},
   "outputs": [
    {
     "name": "stdout",
     "output_type": "stream",
     "text": [
      "Probability: 0.754 \n",
      "Mean: 11.2 \n",
      "SD: 1.833\n"
     ]
    }
   ],
   "source": [
    "k = 13\n",
    "dist = round(stats.binom.cdf(k - 1, n, p),3)\n",
    "mean = round(stats.binom.mean(n, p),3) #mean = np\n",
    "stdev = round(stats.binom.std(n, p), 3) \n",
    "print(\"Probability:\", dist, \"\\nMean:\", mean, \"\\nSD:\", stdev)"
   ]
  },
  {
   "cell_type": "markdown",
   "metadata": {},
   "source": [
    "In this sample of 16, how many students do you expect to accept the offer?"
   ]
  },
  {
   "cell_type": "code",
   "execution_count": 59,
   "metadata": {},
   "outputs": [
    {
     "name": "stdout",
     "output_type": "stream",
     "text": [
      "11 students\n"
     ]
    }
   ],
   "source": [
    "expectation = int(n*p) #equal to mean\n",
    "print(expectation, \"students\")"
   ]
  },
  {
   "cell_type": "code",
   "execution_count": null,
   "metadata": {},
   "outputs": [],
   "source": []
  }
 ],
 "metadata": {
  "kernelspec": {
   "display_name": "Python 3",
   "language": "python",
   "name": "python3"
  },
  "language_info": {
   "codemirror_mode": {
    "name": "ipython",
    "version": 3
   },
   "file_extension": ".py",
   "mimetype": "text/x-python",
   "name": "python",
   "nbconvert_exporter": "python",
   "pygments_lexer": "ipython3",
   "version": "3.7.6"
  }
 },
 "nbformat": 4,
 "nbformat_minor": 4
}
