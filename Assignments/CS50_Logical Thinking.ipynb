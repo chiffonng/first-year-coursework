{
 "cells": [
  {
   "cell_type": "markdown",
   "metadata": {},
   "source": [
    "# Part 1\n"
   ]
  },
  {
   "cell_type": "markdown",
   "metadata": {},
   "source": [
    "### Argument 3: Valid deduction with informal fallacies\n",
    "#### Dedutive argument\n",
    "1. Either I choose an automated home or I pick an self-driving car\n",
    "2. Having a self-driving car urges me to travel far away \n",
    "3. If I travel, I will have to abandon my work \n",
    "4. If I abandon my work, I will have no money\n",
    "5. I need money \n",
    "6. Therefore, I would rather choose an automated home\n",
    "\n",
    "#### Atomic sentences\n",
    "- H: I choose an automated home\n",
    "- C: I choose a self-driving car\n",
    "- T: I travel far away\n",
    "- W: I abandon my work \n",
    "- M: I have money\n",
    "\n",
    "#### Translate argument\n",
    "1. H ∨ C\n",
    "2. C → T\n",
    "3. T → W\n",
    "4. W → ¬M\n",
    "5. M\n",
    "6. H "
   ]
  },
  {
   "cell_type": "markdown",
   "metadata": {},
   "source": [
    "| No. | | Steps |\n",
    "|---:|:--- |:--- |\n",
    "| 1 | H ∨ C | premise |\n",
    "| 2 | C → T | premise |\n",
    "| 3 | T → W | premise |\n",
    "| 4 | W → ¬M | premise |\n",
    "| 5 | M | premise |\n",
    "| 6 | H | conclusion |\n",
    "| 7 | ¬¬M | double negation, 5 |\n",
    "| 8 | ¬W | modus tollens, 7, 4 |\n",
    "| 9 | ¬T | modus tollens 8, 3 |\n",
    "| 10 | ¬C | modus tollens 9, 2 |\n",
    "| 11 | H | modus tolleno ponens, 10, 1 |"
   ]
  },
  {
   "cell_type": "code",
   "execution_count": null,
   "metadata": {},
   "outputs": [],
   "source": []
  }
 ],
 "metadata": {
  "kernelspec": {
   "display_name": "Python 3",
   "language": "python",
   "name": "python3"
  },
  "language_info": {
   "codemirror_mode": {
    "name": "ipython",
    "version": 3
   },
   "file_extension": ".py",
   "mimetype": "text/x-python",
   "name": "python",
   "nbconvert_exporter": "python",
   "pygments_lexer": "ipython3",
   "version": "3.7.6"
  }
 },
 "nbformat": 4,
 "nbformat_minor": 4
}
