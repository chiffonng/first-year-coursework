{
 "cells": [
  {
   "cell_type": "markdown",
   "metadata": {},
   "source": [
    "Complete programming questions from [post-summer assessment prompts](https://drive.google.com/file/d/1HDx4BbrnntpP17JRmc1SrHUWljHHf4lZ/view?usp=sharing):\n",
    "- [x] Q1: [Prior Experience](#q1)\n",
    "- [ ] Q2: Maze Algorithm \n",
    "- [x] Q3: [Right Triangle Check](#q3)\n",
    "- [x] Q4: [Create a Fibonnaci list of n numbers](#q4)\n",
    "- [x] Q5: [Soduko Check](#q5)\n",
    "- [ ] Q6: Histogram of San Francisco's buildings\n",
    "- [x] Q7: [Pig Game](#q7)\n",
    "- [x] Q8: [Donut Check](#q8)"
   ]
  },
  {
   "cell_type": "markdown",
   "metadata": {},
   "source": [
    "<a id = \"q1\"> </a>\n",
    "### Question 1: Prior experience \n",
    "Before this summer: \n",
    "- I’m familiar with Python (4 months, with some libaries: numpy, pandas) and Java (3 months, making a simple shooting game)\n",
    "- I knew HTML, basic CSS and JavaScript\n",
    "- I practiced some basic sorting (QuickSort, MergeSort, BubbleSort, TreeSort) and graphing (dfs, bfs, shortest path) algorithms\n",
    "- I mostly used Visual Studio Code, and IntelliJ IDEA for Java. I used Sublime Text some time.\n",
    "Minerva’s summer prep helped me brush up my rusty Python and encouraged me to take MOOCs to learn more about Data Science and algorithms with Py."
   ]
  },
  {
   "cell_type": "markdown",
   "metadata": {},
   "source": [
    "<a id = \"q2\"> </a>\n",
    "### Question 2:"
   ]
  },
  {
   "cell_type": "markdown",
   "metadata": {},
   "source": [
    "That pseudocode does not work. There are some [particular situations](https://drive.google.com/file/d/1ckH8OnzQYy-AjotpgPk0L3n9JM-IqCfe/view?usp=sharing) it would fall into a repeated loop. \n",
    "The first thing I thought of was Depth First Search (DFS). Shortest Path may work too."
   ]
  },
  {
   "cell_type": "markdown",
   "metadata": {},
   "source": [
    "<a id = \"q3\"></a> \n",
    "### Question 3: Check Right Tringle"
   ]
  },
  {
   "cell_type": "code",
   "execution_count": 5,
   "metadata": {
    "jupyter": {
     "source_hidden": true
    }
   },
   "outputs": [
    {
     "data": {
      "text/plain": [
       "True"
      ]
     },
     "execution_count": 5,
     "metadata": {},
     "output_type": "execute_result"
    }
   ],
   "source": [
    "def is_right_triangle(a, b, c):\n",
    "    side_list = [a, b, c]\n",
    "    longest_line = max(a, b, c)\n",
    "    side_list.remove(longest_line)\n",
    "    hypot = (side_list[0]**2 + side_list[1]**2)**0.5 \n",
    "    return hypot == longest_line \n",
    "\n",
    "is_right_triangle(4, 5, 3)"
   ]
  },
  {
   "cell_type": "markdown",
   "metadata": {},
   "source": [
    "<a id = \"q4\"> </a>\n",
    "### Question 4: List of Fibonacci Numbers"
   ]
  },
  {
   "cell_type": "code",
   "execution_count": 2,
   "metadata": {
    "jupyter": {
     "outputs_hidden": true,
     "source_hidden": true
    }
   },
   "outputs": [
    {
     "data": {
      "text/plain": [
       "[0, 1, 1, 2, 3, 5, 8, 13]"
      ]
     },
     "execution_count": 2,
     "metadata": {},
     "output_type": "execute_result"
    }
   ],
   "source": [
    "def fibonacci_nums(n):\n",
    "    a, b = 0, 1 #first 2 fib nums are 0 and 1\n",
    "    for i in range(n):\n",
    "        yield a #call out a\n",
    "        a, b = b, a + b #substitute to start a new iteration\n",
    "\n",
    "list(fibonacci_nums(8))"
   ]
  },
  {
   "cell_type": "markdown",
   "metadata": {},
   "source": [
    "<a id = \"q5\"> </a>\n",
    "### Question 5: Sodoku Check"
   ]
  },
  {
   "cell_type": "code",
   "execution_count": 3,
   "metadata": {
    "jupyter": {
     "outputs_hidden": true,
     "source_hidden": true
    }
   },
   "outputs": [
    {
     "name": "stdout",
     "output_type": "stream",
     "text": [
      "False\n"
     ]
    }
   ],
   "source": [
    "def check_sudoku(sudoku_lst):\n",
    "    is_sudoku = True\n",
    "\n",
    "    # Check duplicates in rows\n",
    "    for row in sudoku_lst:\n",
    "        for cell in row:\n",
    "            if row.count(cell) > 1: \n",
    "                is_sudoku = False \n",
    "                \n",
    "    # Check duplicates in columns\n",
    "    for i in range(len(sudoku_lst)): # i is current column's index\n",
    "        # create an array to check if a number has existed in the column before, redefine it every column iteration\n",
    "        existed = [False] * (len(sudoku_lst)+1)\n",
    "        for j in range(len(sudoku_lst)): #j is current row's index\n",
    "            if existed[sudoku_lst[j][i]]:\n",
    "                is_sudoku = False\n",
    "            existed[sudoku_lst[j][i]] = True\n",
    "            \n",
    "    return is_sudoku\n",
    "\n",
    "sample_sudoku_lst = [\n",
    "    [1, 2, 3],\n",
    "    [1, 3, 2],\n",
    "    [3, 1, 2]\n",
    "]\n",
    "\n",
    "print(check_sudoku(sample_sudoku_lst))"
   ]
  },
  {
   "cell_type": "markdown",
   "metadata": {},
   "source": [
    "<a id = \"q8\"> </a>\n",
    "### Question 8: Donuts"
   ]
  },
  {
   "cell_type": "code",
   "execution_count": 3,
   "metadata": {
    "jupyter": {
     "outputs_hidden": true,
     "source_hidden": true
    }
   },
   "outputs": [
    {
     "data": {
      "image/png": "[encoded data removed]",
      "text/plain": [
       "<Figure size 432x288 with 1 Axes>"
      ]
     },
     "metadata": {
      "needs_background": "light"
     },
     "output_type": "display_data"
    },
    {
     "name": "stdout",
     "output_type": "stream",
     "text": [
      "9.77\n"
     ]
    }
   ],
   "source": [
    "from matplotlib import pyplot as plt\n",
    "from random import randint\n",
    "from math import log\n",
    "\n",
    "\n",
    "def is_sucessful(percent):\n",
    "    rand = randint(0, 100)\n",
    "    return rand < percent\n",
    "\n",
    "def donuts(n_donuts):\n",
    "    fig, ax = plt.subplots()\n",
    "    available_history = [n_donuts]\n",
    "    bad_history = [0]\n",
    "    eaten_history = [0]\n",
    "    day = 1\n",
    "\n",
    "    while available_history[day - 1] > 0:\n",
    "        n_available = available_history[day - 1]\n",
    "        n_eaten = eaten_history[day - 1]\n",
    "        n_bad = bad_history[day - 1]\n",
    "\n",
    "        for i in range(n_available):\n",
    "            if is_sucessful(4):\n",
    "                n_available -= 1\n",
    "                n_bad += 1\n",
    "                continue\n",
    "\n",
    "            if is_sucessful(5):\n",
    "                n_available -= 1\n",
    "                n_eaten += 1\n",
    "                continue\n",
    "\n",
    "        available_history.append(n_available)\n",
    "        eaten_history.append(n_eaten)\n",
    "        bad_history.append(n_bad)\n",
    "        day += 1\n",
    "\n",
    "    ax.plot(range(day), available_history, label=\"Available\")\n",
    "    ax.plot(range(day), eaten_history, label=\"Eaten\")\n",
    "    ax.plot(range(day), bad_history, label=\"Bad\")\n",
    "    ax.set_xlabel(\"Days\")\n",
    "    ax.set_ylabel(\"Donuts\")\n",
    "    ax.set_title(\"State of the Donuts over Time\")\n",
    "    ax.legend()\n",
    "    plt.show()\n",
    "\n",
    "    n_lose_half = log(day, 2)\n",
    "    half_life = day / n_lose_half\n",
    "    print(\"%.2f\" % half_life)\n",
    "\n",
    "\n",
    "donuts(100)\n"
   ]
  },
  {
   "cell_type": "markdown",
   "metadata": {},
   "source": [
    "<a id = \"q7\"> </a>\n",
    "### Question 7: Pig Game "
   ]
  },
  {
   "cell_type": "code",
   "execution_count": null,
   "metadata": {},
   "outputs": [],
   "source": [
    "from matplotlib import pyplot as plt\n",
    "from random import randint\n",
    "\n",
    "# return a tuple of 2 random numbers from 1 to 6\n",
    "def role():\n",
    "    return [randint(1, 6), randint(1, 6)]\n",
    "\n",
    "# check game over when someone scores 24 or more scores\n",
    "def game_over(scores):\n",
    "    for player_scores in scores:\n",
    "        return player_scores[-1] >= 24\n",
    "    \n",
    "def pig_game(players):\n",
    "    fig, ax = plt.subplots()\n",
    "    history = []\n",
    "    scores = []\n",
    "    turn = 0\n",
    "\n",
    "    for player in range(players):\n",
    "        scores.append([])\n",
    "\n",
    "    while not game_over(scores):\n",
    "        # Each loop iteration is the simulation of a round\n",
    "        for player in range(players):\n",
    "            dice_1, dice_2 = role()\n",
    "            player_score = 0\n",
    "            if dice_1 == 1 and dice_2 == 1:\n",
    "                player_score = 0\n",
    "            elif dice_1 == 1 or dice_2 == 1:\n",
    "                if turn == 0:\n",
    "                    player_score = 0\n",
    "                else:\n",
    "                    player_score = scores[player][turn - 1]\n",
    "            else:\n",
    "                if turn == 0:\n",
    "                    player_score = dice_1 + dice_2\n",
    "                else:\n",
    "                    player_score = scores[player][turn - 1] + dice_1 + dice_2\n",
    "\n",
    "            scores[player].append(player_score)\n",
    "\n",
    "        turn += 1\n",
    "\n",
    "    for player in range(players):\n",
    "        ax.plot(range(1, turn + 1), scores[player], label=(\"Player \" + str(player + 1)))\n",
    "\n",
    "    ax.set_xlabel(\"Turns\")\n",
    "    ax.set_ylabel(\"Points\")\n",
    "    ax.set_title(\"Pig game\")\n",
    "    ax.legend()\n",
    "    plt.show()\n",
    "\n",
    "\n",
    "# demo\n",
    "pig_game(4)"
   ]
  }
 ],
 "metadata": {
  "kernelspec": {
   "display_name": "Python 3",
   "language": "python",
   "name": "python3"
  },
  "language_info": {
   "codemirror_mode": {
    "name": "ipython",
    "version": 3
   },
   "file_extension": ".py",
   "mimetype": "text/x-python",
   "name": "python",
   "nbconvert_exporter": "python",
   "pygments_lexer": "ipython3",
   "version": "3.7.6"
  }
 },
 "nbformat": 4,
 "nbformat_minor": 4
}
